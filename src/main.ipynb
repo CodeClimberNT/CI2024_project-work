{
 "cells": [
  {
   "cell_type": "code",
   "execution_count": 1,
   "metadata": {},
   "outputs": [],
   "source": [
    "import logging\n",
    "import os\n",
    "import time\n",
    "from logging import Logger\n",
    "from typing import List\n",
    "\n",
    "import numpy as np\n",
    "\n",
    "from symb_regression.config import GeneticParams\n",
    "from symb_regression.core import GeneticProgram\n",
    "from symb_regression.core.tree import Node\n",
    "from symb_regression.utils.plotting import (\n",
    "    plot_evolution_metrics,\n",
    "    plot_prediction_analysis,\n",
    "    plot_expression_tree,\n",
    ")\n",
    "from symb_regression.utils.data_handler import load_data\n",
    "from symb_regression.utils.metrics import Metrics\n",
    "import matplotlib.pyplot as plt"
   ]
  },
  {
   "cell_type": "code",
   "execution_count": 2,
   "metadata": {},
   "outputs": [],
   "source": [
    "def print_section_header(title: str, logger: Logger | None = None):\n",
    "    if logger is not None:\n",
    "        logger.info(\"=\" * 50)\n",
    "        logger.info(f\" {title} \".center(50, \"=\"))\n",
    "        logger.info(\"=\" * 50)\n",
    "        return\n",
    "    else:\n",
    "        print(\"\\n\" + \"=\" * 50)\n",
    "        print(f\" {title} \".center(50, \"=\"))\n",
    "        print(\"=\" * 50)\n",
    "\n",
    "\n",
    "def print_section_footer(logger: Logger | None = None):\n",
    "    if logger is not None:\n",
    "        logger.info(\"=\" * 50 + \"\\n\")\n",
    "    else:\n",
    "        print(\"=\" * 50 + \"\\n\")"
   ]
  },
  {
   "cell_type": "code",
   "execution_count": 3,
   "metadata": {},
   "outputs": [],
   "source": [
    "def run_symbolic_regression(\n",
    "    x: np.ndarray,\n",
    "    y: np.ndarray,\n",
    "    params: GeneticParams | None = None,\n",
    "    debug: bool = False,\n",
    ") -> tuple[Node, List[Metrics]]:\n",
    "    logger: Logger = logging.getLogger(\"symb_regression\")\n",
    "\n",
    "    if params is None:\n",
    "        params = GeneticParams(\n",
    "            tournament_size=7,\n",
    "            mutation_prob=0.4,\n",
    "            crossover_prob=0.8,\n",
    "            elitism_count=5,\n",
    "            population_size=1000,\n",
    "            generations=300,\n",
    "            max_depth=5,\n",
    "            min_depth=1,\n",
    "        )\n",
    "\n",
    "    if debug:\n",
    "        logger.debug(\"Genetic Programming Parameters:\")\n",
    "        for key, value in params.__dict__.items():\n",
    "            logger.debug(f\"{key}: {value}\")\n",
    "\n",
    "    gp = GeneticProgram(params)\n",
    "\n",
    "    logger.info(\"Starting evolution...\")\n",
    "    start_time = time.perf_counter()\n",
    "\n",
    "    try:\n",
    "        best_solution, history = gp.evolve(x, y)\n",
    "\n",
    "        end_time = time.perf_counter()\n",
    "        execution_time = end_time - start_time\n",
    "\n",
    "        # Use print for better visibility of results\n",
    "        print_section_header(\"SYMBOLIC REGRESSION RESULTS\")\n",
    "        print(f\"Best Expression Found: {best_solution}\")\n",
    "        print(f\"Final Fitness: {gp.calculate_fitness(best_solution, x, y):g}\")\n",
    "        print(f\"Execution Time: {execution_time:.2f} seconds\")\n",
    "        print(f\"Generations: {len(history)}\")\n",
    "        print_section_footer()\n",
    "\n",
    "        # Plot the evolution progress\n",
    "\n",
    "        fig, axs = plt.subplots(1, 2, figsize=(12, 6))\n",
    "        plot_evolution_metrics(history, ax=axs[0])\n",
    "\n",
    "        mse, r2 = plot_prediction_analysis(best_solution, x, y, ax=axs[1])\n",
    "\n",
    "        plt.tight_layout()\n",
    "        plt.show()\n",
    "\n",
    "        print(\"Performance Metrics:\")\n",
    "        print(f\"Mean Squared Error: {mse:.6f}\")\n",
    "        print(f\"R² Score: {r2:.6f} ({r2*100:.1f}% of variance explained)\")\n",
    "\n",
    "        plot_expression_tree(best_solution)\n",
    "\n",
    "        return best_solution, history\n",
    "\n",
    "    except Exception as e:\n",
    "        logger.error(f\"Evolution failed: {e}\")\n",
    "        raise"
   ]
  },
  {
   "cell_type": "code",
   "execution_count": null,
   "metadata": {},
   "outputs": [
    {
     "data": {
      "application/vnd.jupyter.widget-view+json": {
       "model_id": "e8df929a91af44bd848726c30bbf08fe",
       "version_major": 2,
       "version_minor": 0
      },
      "text/plain": [
       "Output()"
      ]
     },
     "metadata": {},
     "output_type": "display_data"
    },
    {
     "name": "stdout",
     "output_type": "stream",
     "text": [
      "\n",
      "Data Statistics:\n",
      "X shape: (5000, 2), Y shape: (5000,)\n",
      "Number of variables: 2\n",
      "\n",
      "Variable x0:\n",
      "  Range: [-2.000, 1.999]\n",
      "  Mean: 0.007\n",
      "  Std: 1.150\n",
      "  Correlation with y: -0.004\n",
      "\n",
      "Variable x1:\n",
      "  Range: [-1.997, 1.999]\n",
      "  Mean: -0.012\n",
      "  Std: 1.158\n",
      "  Correlation with y: 0.000\n",
      "\n",
      "Target y:\n",
      "  Range: [1.300, 508.418]\n",
      "  Mean: 10.230\n",
      "  Std: 26.668\n"
     ]
    },
    {
     "data": {
      "text/html": [
       "<pre style=\"white-space:pre;overflow-x:auto;line-height:normal;font-family:Menlo,'DejaVu Sans Mono',consolas,'Courier New',monospace\">No improvement for 10 generations, injecting diversity...\n",
       "</pre>\n"
      ],
      "text/plain": [
       "No improvement for 10 generations, injecting diversity...\n"
      ]
     },
     "metadata": {},
     "output_type": "display_data"
    },
    {
     "data": {
      "text/html": [
       "<pre style=\"white-space:pre;overflow-x:auto;line-height:normal;font-family:Menlo,'DejaVu Sans Mono',consolas,'Courier New',monospace\">No improvement for 10 generations, injecting diversity...\n",
       "</pre>\n"
      ],
      "text/plain": [
       "No improvement for 10 generations, injecting diversity...\n"
      ]
     },
     "metadata": {},
     "output_type": "display_data"
    },
    {
     "data": {
      "text/html": [
       "<pre style=\"white-space:pre;overflow-x:auto;line-height:normal;font-family:Menlo,'DejaVu Sans Mono',consolas,'Courier New',monospace\">No improvement for 10 generations, injecting diversity...\n",
       "</pre>\n"
      ],
      "text/plain": [
       "No improvement for 10 generations, injecting diversity...\n"
      ]
     },
     "metadata": {},
     "output_type": "display_data"
    },
    {
     "data": {
      "text/html": [
       "<pre style=\"white-space:pre;overflow-x:auto;line-height:normal;font-family:Menlo,'DejaVu Sans Mono',consolas,'Courier New',monospace\">No improvement for 10 generations, injecting diversity...\n",
       "</pre>\n"
      ],
      "text/plain": [
       "No improvement for 10 generations, injecting diversity...\n"
      ]
     },
     "metadata": {},
     "output_type": "display_data"
    },
    {
     "data": {
      "text/html": [
       "<pre style=\"white-space:pre;overflow-x:auto;line-height:normal;font-family:Menlo,'DejaVu Sans Mono',consolas,'Courier New',monospace\">No improvement for 10 generations, injecting diversity...\n",
       "</pre>\n"
      ],
      "text/plain": [
       "No improvement for 10 generations, injecting diversity...\n"
      ]
     },
     "metadata": {},
     "output_type": "display_data"
    },
    {
     "data": {
      "text/html": [
       "<pre style=\"white-space:pre;overflow-x:auto;line-height:normal;font-family:Menlo,'DejaVu Sans Mono',consolas,'Courier New',monospace\">No improvement for 10 generations, injecting diversity...\n",
       "</pre>\n"
      ],
      "text/plain": [
       "No improvement for 10 generations, injecting diversity...\n"
      ]
     },
     "metadata": {},
     "output_type": "display_data"
    },
    {
     "data": {
      "text/html": [
       "<pre style=\"white-space:pre;overflow-x:auto;line-height:normal;font-family:Menlo,'DejaVu Sans Mono',consolas,'Courier New',monospace\">No improvement for 10 generations, injecting diversity...\n",
       "</pre>\n"
      ],
      "text/plain": [
       "No improvement for 10 generations, injecting diversity...\n"
      ]
     },
     "metadata": {},
     "output_type": "display_data"
    },
    {
     "data": {
      "text/html": [
       "<pre style=\"white-space:pre;overflow-x:auto;line-height:normal;font-family:Menlo,'DejaVu Sans Mono',consolas,'Courier New',monospace\">No improvement for 10 generations, injecting diversity...\n",
       "</pre>\n"
      ],
      "text/plain": [
       "No improvement for 10 generations, injecting diversity...\n"
      ]
     },
     "metadata": {},
     "output_type": "display_data"
    },
    {
     "data": {
      "text/html": [
       "<pre style=\"white-space:pre;overflow-x:auto;line-height:normal;font-family:Menlo,'DejaVu Sans Mono',consolas,'Courier New',monospace\">No improvement for 10 generations, injecting diversity...\n",
       "</pre>\n"
      ],
      "text/plain": [
       "No improvement for 10 generations, injecting diversity...\n"
      ]
     },
     "metadata": {},
     "output_type": "display_data"
    },
    {
     "data": {
      "text/html": [
       "<pre style=\"white-space:pre;overflow-x:auto;line-height:normal;font-family:Menlo,'DejaVu Sans Mono',consolas,'Courier New',monospace\">No improvement for 10 generations, injecting diversity...\n",
       "</pre>\n"
      ],
      "text/plain": [
       "No improvement for 10 generations, injecting diversity...\n"
      ]
     },
     "metadata": {},
     "output_type": "display_data"
    },
    {
     "data": {
      "text/html": [
       "<pre style=\"white-space:pre;overflow-x:auto;line-height:normal;font-family:Menlo,'DejaVu Sans Mono',consolas,'Courier New',monospace\">No improvement for 10 generations, injecting diversity...\n",
       "</pre>\n"
      ],
      "text/plain": [
       "No improvement for 10 generations, injecting diversity...\n"
      ]
     },
     "metadata": {},
     "output_type": "display_data"
    },
    {
     "data": {
      "text/html": [
       "<pre style=\"white-space:pre;overflow-x:auto;line-height:normal;font-family:Menlo,'DejaVu Sans Mono',consolas,'Courier New',monospace\">No improvement for 10 generations, injecting diversity...\n",
       "</pre>\n"
      ],
      "text/plain": [
       "No improvement for 10 generations, injecting diversity...\n"
      ]
     },
     "metadata": {},
     "output_type": "display_data"
    },
    {
     "data": {
      "text/html": [
       "<pre style=\"white-space:pre;overflow-x:auto;line-height:normal;font-family:Menlo,'DejaVu Sans Mono',consolas,'Courier New',monospace\">No improvement for 10 generations, injecting diversity...\n",
       "</pre>\n"
      ],
      "text/plain": [
       "No improvement for 10 generations, injecting diversity...\n"
      ]
     },
     "metadata": {},
     "output_type": "display_data"
    },
    {
     "data": {
      "text/html": [
       "<pre style=\"white-space:pre;overflow-x:auto;line-height:normal;font-family:Menlo,'DejaVu Sans Mono',consolas,'Courier New',monospace\">No improvement for 10 generations, injecting diversity...\n",
       "</pre>\n"
      ],
      "text/plain": [
       "No improvement for 10 generations, injecting diversity...\n"
      ]
     },
     "metadata": {},
     "output_type": "display_data"
    },
    {
     "data": {
      "text/html": [
       "<pre style=\"white-space:pre;overflow-x:auto;line-height:normal;font-family:Menlo,'DejaVu Sans Mono',consolas,'Courier New',monospace\">No improvement for 10 generations, injecting diversity...\n",
       "</pre>\n"
      ],
      "text/plain": [
       "No improvement for 10 generations, injecting diversity...\n"
      ]
     },
     "metadata": {},
     "output_type": "display_data"
    }
   ],
   "source": [
    "# Set random seed for reproducibility\n",
    "np.random.seed(42)\n",
    "\n",
    "# Load and process data\n",
    "PROBLEM_DIR = os.getcwd()\n",
    "DATA_DIR = os.path.join(PROBLEM_DIR, \"data\")\n",
    "\n",
    "x, y = load_data(DATA_DIR, \"problem_7\")\n",
    "\n",
    "# Run symbolic regression\n",
    "run_symbolic_regression(x, y)"
   ]
  }
 ],
 "metadata": {
  "kernelspec": {
   "display_name": ".venv",
   "language": "python",
   "name": "python3"
  },
  "language_info": {
   "codemirror_mode": {
    "name": "ipython",
    "version": 3
   },
   "file_extension": ".py",
   "mimetype": "text/x-python",
   "name": "python",
   "nbconvert_exporter": "python",
   "pygments_lexer": "ipython3",
   "version": "3.12.7"
  }
 },
 "nbformat": 4,
 "nbformat_minor": 2
}
