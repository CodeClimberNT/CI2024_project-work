{
 "cells": [
  {
   "cell_type": "code",
   "execution_count": 37,
   "metadata": {},
   "outputs": [],
   "source": [
    "import logging\n",
    "import os\n",
    "import time\n",
    "from logging import Logger\n",
    "from typing import List\n",
    "\n",
    "import numpy as np\n",
    "\n",
    "from symb_regression.config import GeneticParams\n",
    "from symb_regression.core import GeneticProgram\n",
    "from symb_regression.core.tree import Node\n",
    "from symb_regression.utils.plotting import (\n",
    "    plot_evolution_metrics,\n",
    "    plot_prediction_analysis,\n",
    "    plot_expression_tree,\n",
    ")\n",
    "from symb_regression.utils.data_handler import load_data\n",
    "from symb_regression.utils.metrics import Metrics\n",
    "import matplotlib.pyplot as plt"
   ]
  },
  {
   "cell_type": "code",
   "execution_count": 38,
   "metadata": {},
   "outputs": [],
   "source": [
    "def print_section_header(title: str, logger: Logger | None = None):\n",
    "    if logger is not None:\n",
    "        logger.info(\"=\" * 50)\n",
    "        logger.info(f\" {title} \".center(50, \"=\"))\n",
    "        logger.info(\"=\" * 50)\n",
    "        return\n",
    "    else:\n",
    "        print(\"\\n\" + \"=\" * 50)\n",
    "        print(f\" {title} \".center(50, \"=\"))\n",
    "        print(\"=\" * 50)\n",
    "\n",
    "\n",
    "def print_section_footer(logger: Logger | None = None):\n",
    "    if logger is not None:\n",
    "        logger.info(\"=\" * 50 + \"\\n\")\n",
    "    else:\n",
    "        print(\"=\" * 50 + \"\\n\")"
   ]
  },
  {
   "cell_type": "code",
   "execution_count": 39,
   "metadata": {},
   "outputs": [],
   "source": [
    "def run_symbolic_regression(\n",
    "    x: np.ndarray,\n",
    "    y: np.ndarray,\n",
    "    params: GeneticParams | None = None,\n",
    "    debug: bool = False,\n",
    ") -> tuple[Node, List[Metrics]]:\n",
    "    logger: Logger = logging.getLogger(\"symb_regression\")\n",
    "\n",
    "    if params is None:\n",
    "        params = GeneticParams(\n",
    "            tournament_size=7,\n",
    "            mutation_prob=0.4,\n",
    "            crossover_prob=0.8,\n",
    "            elitism_count=8,\n",
    "            population_size=1000,\n",
    "            generations=800,\n",
    "            max_depth=5,\n",
    "            min_depth=2,\n",
    "        )\n",
    "\n",
    "    if debug:\n",
    "        logger.debug(\"Genetic Programming Parameters:\")\n",
    "        for key, value in params.__dict__.items():\n",
    "            logger.debug(f\"{key}: {value}\")\n",
    "\n",
    "    gp = GeneticProgram(params)\n",
    "\n",
    "    logger.info(\"Starting evolution...\")\n",
    "    start_time = time.perf_counter()\n",
    "\n",
    "    try:\n",
    "        best_solution, history = gp.evolve(x, y)\n",
    "\n",
    "        end_time = time.perf_counter()\n",
    "        execution_time = end_time - start_time\n",
    "\n",
    "        # Use print for better visibility of results\n",
    "        print_section_header(\"SYMBOLIC REGRESSION RESULTS\")\n",
    "        print(f\"Best Expression Found: {best_solution}\")\n",
    "        print(f\"Final Fitness: {gp.calculate_fitness(best_solution, x, y):g}\")\n",
    "        print(f\"Execution Time: {execution_time:.2f} seconds\")\n",
    "        print(f\"Generations: {len(history)}\")\n",
    "        print_section_footer()\n",
    "\n",
    "        # Plot the evolution progress\n",
    "\n",
    "        fig, axs = plt.subplots(1, 2, figsize=(12, 6))\n",
    "        plot_evolution_metrics(history, ax=axs[0])\n",
    "\n",
    "        mse, r2 = plot_prediction_analysis(best_solution, x, y, ax=axs[1])\n",
    "\n",
    "        plt.tight_layout()\n",
    "        plt.show()\n",
    "\n",
    "        print(\"Performance Metrics:\")\n",
    "        print(f\"Mean Squared Error: {mse:.6f}\")\n",
    "        print(f\"R² Score: {r2:.6f} ({r2*100:.1f}% of variance explained)\")\n",
    "\n",
    "        plot_expression_tree(best_solution)\n",
    "\n",
    "        return best_solution, history\n",
    "\n",
    "    except Exception as e:\n",
    "        logger.error(f\"Evolution failed: {e}\")\n",
    "        raise"
   ]
  },
  {
   "cell_type": "code",
   "execution_count": 40,
   "metadata": {},
   "outputs": [
    {
     "data": {
      "application/vnd.jupyter.widget-view+json": {
       "model_id": "e2bf589139f242bc827b6a13ff6727ca",
       "version_major": 2,
       "version_minor": 0
      },
      "text/plain": [
       "Output()"
      ]
     },
     "metadata": {},
     "output_type": "display_data"
    },
    {
     "name": "stdout",
     "output_type": "stream",
     "text": [
      "\n",
      "Data Statistics:\n",
      "X shape: (5000, 2), Y shape: (5000,)\n",
      "Number of variables: 2\n",
      "\n",
      "Variable x0:\n",
      "  Range: [-4.999, 4.997]\n",
      "  Mean: 0.009\n",
      "  Std: 2.878\n",
      "  Correlation with y: -0.049\n",
      "\n",
      "Variable x1:\n",
      "  Range: [-5.000, 5.000]\n",
      "  Mean: -0.026\n",
      "  Std: 2.865\n",
      "  Correlation with y: -0.003\n",
      "\n",
      "Target y:\n",
      "  Range: [-4.158, 10.702]\n",
      "  Mean: 2.000\n",
      "  Std: 4.650\n"
     ]
    },
    {
     "data": {
      "text/html": [
       "<pre style=\"white-space:pre;overflow-x:auto;line-height:normal;font-family:Menlo,'DejaVu Sans Mono',consolas,'Courier New',monospace\">No improvement for 10 generations, injecting diversity...\n",
       "</pre>\n"
      ],
      "text/plain": [
       "No improvement for 10 generations, injecting diversity...\n"
      ]
     },
     "metadata": {},
     "output_type": "display_data"
    },
    {
     "data": {
      "text/html": [
       "<pre style=\"white-space:pre;overflow-x:auto;line-height:normal;font-family:Menlo,'DejaVu Sans Mono',consolas,'Courier New',monospace\">No improvement for 10 generations, injecting diversity...\n",
       "</pre>\n"
      ],
      "text/plain": [
       "No improvement for 10 generations, injecting diversity...\n"
      ]
     },
     "metadata": {},
     "output_type": "display_data"
    },
    {
     "data": {
      "text/html": [
       "<pre style=\"white-space:pre;overflow-x:auto;line-height:normal;font-family:Menlo,'DejaVu Sans Mono',consolas,'Courier New',monospace\">No improvement for 10 generations, injecting diversity...\n",
       "</pre>\n"
      ],
      "text/plain": [
       "No improvement for 10 generations, injecting diversity...\n"
      ]
     },
     "metadata": {},
     "output_type": "display_data"
    },
    {
     "data": {
      "text/html": [
       "<pre style=\"white-space:pre;overflow-x:auto;line-height:normal;font-family:Menlo,'DejaVu Sans Mono',consolas,'Courier New',monospace\">No improvement for 10 generations, injecting diversity...\n",
       "</pre>\n"
      ],
      "text/plain": [
       "No improvement for 10 generations, injecting diversity...\n"
      ]
     },
     "metadata": {},
     "output_type": "display_data"
    },
    {
     "data": {
      "text/html": [
       "<pre style=\"white-space:pre;overflow-x:auto;line-height:normal;font-family:Menlo,'DejaVu Sans Mono',consolas,'Courier New',monospace\">No improvement for 10 generations, injecting diversity...\n",
       "</pre>\n"
      ],
      "text/plain": [
       "No improvement for 10 generations, injecting diversity...\n"
      ]
     },
     "metadata": {},
     "output_type": "display_data"
    },
    {
     "data": {
      "text/html": [
       "<pre style=\"white-space:pre;overflow-x:auto;line-height:normal;font-family:Menlo,'DejaVu Sans Mono',consolas,'Courier New',monospace\">No improvement for 10 generations, injecting diversity...\n",
       "</pre>\n"
      ],
      "text/plain": [
       "No improvement for 10 generations, injecting diversity...\n"
      ]
     },
     "metadata": {},
     "output_type": "display_data"
    },
    {
     "data": {
      "text/html": [
       "<pre style=\"white-space:pre;overflow-x:auto;line-height:normal;font-family:Menlo,'DejaVu Sans Mono',consolas,'Courier New',monospace\">No improvement for 10 generations, injecting diversity...\n",
       "</pre>\n"
      ],
      "text/plain": [
       "No improvement for 10 generations, injecting diversity...\n"
      ]
     },
     "metadata": {},
     "output_type": "display_data"
    },
    {
     "data": {
      "text/html": [
       "<pre style=\"white-space:pre;overflow-x:auto;line-height:normal;font-family:Menlo,'DejaVu Sans Mono',consolas,'Courier New',monospace\">No improvement for 10 generations, injecting diversity...\n",
       "</pre>\n"
      ],
      "text/plain": [
       "No improvement for 10 generations, injecting diversity...\n"
      ]
     },
     "metadata": {},
     "output_type": "display_data"
    },
    {
     "data": {
      "text/html": [
       "<pre style=\"white-space:pre;overflow-x:auto;line-height:normal;font-family:Menlo,'DejaVu Sans Mono',consolas,'Courier New',monospace\">No improvement for 10 generations, injecting diversity...\n",
       "</pre>\n"
      ],
      "text/plain": [
       "No improvement for 10 generations, injecting diversity...\n"
      ]
     },
     "metadata": {},
     "output_type": "display_data"
    },
    {
     "data": {
      "text/html": [
       "<pre style=\"white-space:pre;overflow-x:auto;line-height:normal;font-family:Menlo,'DejaVu Sans Mono',consolas,'Courier New',monospace\">No improvement for 10 generations, injecting diversity...\n",
       "</pre>\n"
      ],
      "text/plain": [
       "No improvement for 10 generations, injecting diversity...\n"
      ]
     },
     "metadata": {},
     "output_type": "display_data"
    },
    {
     "data": {
      "text/html": [
       "<pre style=\"white-space:pre;overflow-x:auto;line-height:normal;font-family:Menlo,'DejaVu Sans Mono',consolas,'Courier New',monospace\">No improvement for 10 generations, injecting diversity...\n",
       "</pre>\n"
      ],
      "text/plain": [
       "No improvement for 10 generations, injecting diversity...\n"
      ]
     },
     "metadata": {},
     "output_type": "display_data"
    },
    {
     "data": {
      "text/html": [
       "<pre style=\"white-space:pre;overflow-x:auto;line-height:normal;font-family:Menlo,'DejaVu Sans Mono',consolas,'Courier New',monospace\"></pre>\n"
      ],
      "text/plain": []
     },
     "metadata": {},
     "output_type": "display_data"
    },
    {
     "ename": "KeyboardInterrupt",
     "evalue": "",
     "output_type": "error",
     "traceback": [
      "\u001b[1;31m---------------------------------------------------------------------------\u001b[0m",
      "\u001b[1;31mKeyboardInterrupt\u001b[0m                         Traceback (most recent call last)",
      "Cell \u001b[1;32mIn[40], line 11\u001b[0m\n\u001b[0;32m      8\u001b[0m x, y \u001b[38;5;241m=\u001b[39m load_data(DATA_DIR, \u001b[38;5;124m\"\u001b[39m\u001b[38;5;124mproblem_4\u001b[39m\u001b[38;5;124m\"\u001b[39m)\n\u001b[0;32m     10\u001b[0m \u001b[38;5;66;03m# Run symbolic regression\u001b[39;00m\n\u001b[1;32m---> 11\u001b[0m \u001b[43mrun_symbolic_regression\u001b[49m\u001b[43m(\u001b[49m\u001b[43mx\u001b[49m\u001b[43m,\u001b[49m\u001b[43m \u001b[49m\u001b[43my\u001b[49m\u001b[43m)\u001b[49m\n",
      "Cell \u001b[1;32mIn[39], line 32\u001b[0m, in \u001b[0;36mrun_symbolic_regression\u001b[1;34m(x, y, params, debug)\u001b[0m\n\u001b[0;32m     29\u001b[0m start_time \u001b[38;5;241m=\u001b[39m time\u001b[38;5;241m.\u001b[39mperf_counter()\n\u001b[0;32m     31\u001b[0m \u001b[38;5;28;01mtry\u001b[39;00m:\n\u001b[1;32m---> 32\u001b[0m     best_solution, history \u001b[38;5;241m=\u001b[39m \u001b[43mgp\u001b[49m\u001b[38;5;241;43m.\u001b[39;49m\u001b[43mevolve\u001b[49m\u001b[43m(\u001b[49m\u001b[43mx\u001b[49m\u001b[43m,\u001b[49m\u001b[43m \u001b[49m\u001b[43my\u001b[49m\u001b[43m)\u001b[49m\n\u001b[0;32m     34\u001b[0m     end_time \u001b[38;5;241m=\u001b[39m time\u001b[38;5;241m.\u001b[39mperf_counter()\n\u001b[0;32m     35\u001b[0m     execution_time \u001b[38;5;241m=\u001b[39m end_time \u001b[38;5;241m-\u001b[39m start_time\n",
      "File \u001b[1;32mc:\\Users\\rosif\\OneDrive\\Desktop\\Computational-Intelligence\\CI-Project\\src\\symb_regression\\core\\genetic_programming.py:141\u001b[0m, in \u001b[0;36mGeneticProgram.evolve\u001b[1;34m(self, x, y)\u001b[0m\n\u001b[0;32m    138\u001b[0m \u001b[38;5;28mself\u001b[39m\u001b[38;5;241m.\u001b[39m_initialize_evolution(x)\n\u001b[0;32m    139\u001b[0m \u001b[38;5;28mself\u001b[39m\u001b[38;5;241m.\u001b[39m_create_initial_population()\n\u001b[1;32m--> 141\u001b[0m \u001b[38;5;28;01mreturn\u001b[39;00m \u001b[38;5;28;43mself\u001b[39;49m\u001b[38;5;241;43m.\u001b[39;49m\u001b[43m_run_evolution_loop\u001b[49m\u001b[43m(\u001b[49m\u001b[43mx\u001b[49m\u001b[43m,\u001b[49m\u001b[43m \u001b[49m\u001b[43my\u001b[49m\u001b[43m)\u001b[49m\n",
      "File \u001b[1;32mc:\\Users\\rosif\\OneDrive\\Desktop\\Computational-Intelligence\\CI-Project\\src\\symb_regression\\core\\genetic_programming.py:277\u001b[0m, in \u001b[0;36mGeneticProgram._run_evolution_loop\u001b[1;34m(self, x, y)\u001b[0m\n\u001b[0;32m    275\u001b[0m new_population: \u001b[38;5;28mlist\u001b[39m[Node] \u001b[38;5;241m=\u001b[39m []\n\u001b[0;32m    276\u001b[0m \u001b[38;5;28mself\u001b[39m\u001b[38;5;241m.\u001b[39m_apply_elitism(scores, new_population)\n\u001b[1;32m--> 277\u001b[0m \u001b[38;5;28;43mself\u001b[39;49m\u001b[38;5;241;43m.\u001b[39;49m\u001b[43m_create_offspring\u001b[49m\u001b[43m(\u001b[49m\u001b[43mscores\u001b[49m\u001b[43m,\u001b[49m\u001b[43m \u001b[49m\u001b[43mnew_population\u001b[49m\u001b[43m)\u001b[49m\n\u001b[0;32m    279\u001b[0m \u001b[38;5;28mself\u001b[39m\u001b[38;5;241m.\u001b[39mpopulation \u001b[38;5;241m=\u001b[39m new_population[: \u001b[38;5;28mself\u001b[39m\u001b[38;5;241m.\u001b[39mparams\u001b[38;5;241m.\u001b[39mpopulation_size]\n\u001b[0;32m    280\u001b[0m \u001b[38;5;28mself\u001b[39m\u001b[38;5;241m.\u001b[39m_update_metrics(gen, start_time, scores, gen_start_time, eval_time)\n",
      "File \u001b[1;32mc:\\Users\\rosif\\OneDrive\\Desktop\\Computational-Intelligence\\CI-Project\\src\\symb_regression\\core\\genetic_programming.py:201\u001b[0m, in \u001b[0;36mGeneticProgram._create_offspring\u001b[1;34m(self, scores, new_population)\u001b[0m\n\u001b[0;32m    199\u001b[0m attempt_count \u001b[38;5;241m+\u001b[39m\u001b[38;5;241m=\u001b[39m \u001b[38;5;241m1\u001b[39m\n\u001b[0;32m    200\u001b[0m \u001b[38;5;28;01mtry\u001b[39;00m:\n\u001b[1;32m--> 201\u001b[0m     parent1 \u001b[38;5;241m=\u001b[39m \u001b[38;5;28;43mself\u001b[39;49m\u001b[38;5;241;43m.\u001b[39;49m\u001b[43mtournament_selection\u001b[49m\u001b[43m(\u001b[49m\u001b[43mscores\u001b[49m\u001b[43m)\u001b[49m\n\u001b[0;32m    202\u001b[0m     parent2 \u001b[38;5;241m=\u001b[39m \u001b[38;5;28mself\u001b[39m\u001b[38;5;241m.\u001b[39mtournament_selection(scores)\n\u001b[0;32m    204\u001b[0m     child1, child2 \u001b[38;5;241m=\u001b[39m \u001b[38;5;28mself\u001b[39m\u001b[38;5;241m.\u001b[39m_crossover_and_mutate(parent1, parent2)\n",
      "File \u001b[1;32mc:\\Users\\rosif\\OneDrive\\Desktop\\Computational-Intelligence\\CI-Project\\src\\symb_regression\\core\\genetic_programming.py:132\u001b[0m, in \u001b[0;36mGeneticProgram.tournament_selection\u001b[1;34m(self, scores)\u001b[0m\n\u001b[0;32m    128\u001b[0m indices \u001b[38;5;241m=\u001b[39m np\u001b[38;5;241m.\u001b[39marray(\n\u001b[0;32m    129\u001b[0m     random\u001b[38;5;241m.\u001b[39msample(\u001b[38;5;28mrange\u001b[39m(\u001b[38;5;28mlen\u001b[39m(\u001b[38;5;28mself\u001b[39m\u001b[38;5;241m.\u001b[39mpopulation)), \u001b[38;5;28mself\u001b[39m\u001b[38;5;241m.\u001b[39mparams\u001b[38;5;241m.\u001b[39mtournament_size)\n\u001b[0;32m    130\u001b[0m )\n\u001b[0;32m    131\u001b[0m tournament_scores: npt\u001b[38;5;241m.\u001b[39mNDArray[np\u001b[38;5;241m.\u001b[39mfloat64] \u001b[38;5;241m=\u001b[39m np\u001b[38;5;241m.\u001b[39marray(scores)[indices]\n\u001b[1;32m--> 132\u001b[0m winner_idx \u001b[38;5;241m=\u001b[39m indices[\u001b[43mnp\u001b[49m\u001b[38;5;241;43m.\u001b[39;49m\u001b[43margmax\u001b[49m\u001b[43m(\u001b[49m\u001b[43mtournament_scores\u001b[49m\u001b[43m)\u001b[49m]\n\u001b[0;32m    133\u001b[0m \u001b[38;5;28;01mreturn\u001b[39;00m \u001b[38;5;28mself\u001b[39m\u001b[38;5;241m.\u001b[39mpopulation[winner_idx]\n",
      "File \u001b[1;32mc:\\Users\\rosif\\AppData\\Local\\pypoetry\\Cache\\virtualenvs\\ci-project-NFYoYubB-py3.12\\Lib\\site-packages\\numpy\\_core\\fromnumeric.py:1342\u001b[0m, in \u001b[0;36margmax\u001b[1;34m(a, axis, out, keepdims)\u001b[0m\n\u001b[0;32m   1253\u001b[0m \u001b[38;5;250m\u001b[39m\u001b[38;5;124;03m\"\"\"\u001b[39;00m\n\u001b[0;32m   1254\u001b[0m \u001b[38;5;124;03mReturns the indices of the maximum values along an axis.\u001b[39;00m\n\u001b[0;32m   1255\u001b[0m \n\u001b[1;32m   (...)\u001b[0m\n\u001b[0;32m   1339\u001b[0m \u001b[38;5;124;03m(2, 1, 4)\u001b[39;00m\n\u001b[0;32m   1340\u001b[0m \u001b[38;5;124;03m\"\"\"\u001b[39;00m\n\u001b[0;32m   1341\u001b[0m kwds \u001b[38;5;241m=\u001b[39m {\u001b[38;5;124m'\u001b[39m\u001b[38;5;124mkeepdims\u001b[39m\u001b[38;5;124m'\u001b[39m: keepdims} \u001b[38;5;28;01mif\u001b[39;00m keepdims \u001b[38;5;129;01mis\u001b[39;00m \u001b[38;5;129;01mnot\u001b[39;00m np\u001b[38;5;241m.\u001b[39m_NoValue \u001b[38;5;28;01melse\u001b[39;00m {}\n\u001b[1;32m-> 1342\u001b[0m \u001b[38;5;28;01mreturn\u001b[39;00m \u001b[43m_wrapfunc\u001b[49m\u001b[43m(\u001b[49m\u001b[43ma\u001b[49m\u001b[43m,\u001b[49m\u001b[43m \u001b[49m\u001b[38;5;124;43m'\u001b[39;49m\u001b[38;5;124;43margmax\u001b[39;49m\u001b[38;5;124;43m'\u001b[39;49m\u001b[43m,\u001b[49m\u001b[43m \u001b[49m\u001b[43maxis\u001b[49m\u001b[38;5;241;43m=\u001b[39;49m\u001b[43maxis\u001b[49m\u001b[43m,\u001b[49m\u001b[43m \u001b[49m\u001b[43mout\u001b[49m\u001b[38;5;241;43m=\u001b[39;49m\u001b[43mout\u001b[49m\u001b[43m,\u001b[49m\u001b[43m \u001b[49m\u001b[38;5;241;43m*\u001b[39;49m\u001b[38;5;241;43m*\u001b[39;49m\u001b[43mkwds\u001b[49m\u001b[43m)\u001b[49m\n",
      "File \u001b[1;32mc:\\Users\\rosif\\AppData\\Local\\pypoetry\\Cache\\virtualenvs\\ci-project-NFYoYubB-py3.12\\Lib\\site-packages\\numpy\\_core\\fromnumeric.py:57\u001b[0m, in \u001b[0;36m_wrapfunc\u001b[1;34m(obj, method, *args, **kwds)\u001b[0m\n\u001b[0;32m     54\u001b[0m     \u001b[38;5;28;01mreturn\u001b[39;00m _wrapit(obj, method, \u001b[38;5;241m*\u001b[39margs, \u001b[38;5;241m*\u001b[39m\u001b[38;5;241m*\u001b[39mkwds)\n\u001b[0;32m     56\u001b[0m \u001b[38;5;28;01mtry\u001b[39;00m:\n\u001b[1;32m---> 57\u001b[0m     \u001b[38;5;28;01mreturn\u001b[39;00m \u001b[43mbound\u001b[49m\u001b[43m(\u001b[49m\u001b[38;5;241;43m*\u001b[39;49m\u001b[43margs\u001b[49m\u001b[43m,\u001b[49m\u001b[43m \u001b[49m\u001b[38;5;241;43m*\u001b[39;49m\u001b[38;5;241;43m*\u001b[39;49m\u001b[43mkwds\u001b[49m\u001b[43m)\u001b[49m\n\u001b[0;32m     58\u001b[0m \u001b[38;5;28;01mexcept\u001b[39;00m \u001b[38;5;167;01mTypeError\u001b[39;00m:\n\u001b[0;32m     59\u001b[0m     \u001b[38;5;66;03m# A TypeError occurs if the object does have such a method in its\u001b[39;00m\n\u001b[0;32m     60\u001b[0m     \u001b[38;5;66;03m# class, but its signature is not identical to that of NumPy's. This\u001b[39;00m\n\u001b[1;32m   (...)\u001b[0m\n\u001b[0;32m     64\u001b[0m     \u001b[38;5;66;03m# Call _wrapit from within the except clause to ensure a potential\u001b[39;00m\n\u001b[0;32m     65\u001b[0m     \u001b[38;5;66;03m# exception has a traceback chain.\u001b[39;00m\n\u001b[0;32m     66\u001b[0m     \u001b[38;5;28;01mreturn\u001b[39;00m _wrapit(obj, method, \u001b[38;5;241m*\u001b[39margs, \u001b[38;5;241m*\u001b[39m\u001b[38;5;241m*\u001b[39mkwds)\n",
      "\u001b[1;31mKeyboardInterrupt\u001b[0m: "
     ]
    }
   ],
   "source": [
    "# Set random seed for reproducibility\n",
    "np.random.seed(42)\n",
    "\n",
    "# Load and process data\n",
    "PROBLEM_DIR = os.getcwd()\n",
    "DATA_DIR = os.path.join(PROBLEM_DIR, \"data\")\n",
    "\n",
    "x, y = load_data(DATA_DIR, \"problem_4\")\n",
    "\n",
    "# Run symbolic regression\n",
    "run_symbolic_regression(x, y)"
   ]
  }
 ],
 "metadata": {
  "kernelspec": {
   "display_name": "ci-project-NFYoYubB-py3.12",
   "language": "python",
   "name": "python3"
  },
  "language_info": {
   "codemirror_mode": {
    "name": "ipython",
    "version": 3
   },
   "file_extension": ".py",
   "mimetype": "text/x-python",
   "name": "python",
   "nbconvert_exporter": "python",
   "pygments_lexer": "ipython3",
   "version": "3.12.6"
  }
 },
 "nbformat": 4,
 "nbformat_minor": 2
}
